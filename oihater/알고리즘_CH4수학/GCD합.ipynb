{
 "cells": [
  {
   "cell_type": "code",
   "execution_count": 1,
   "metadata": {},
   "outputs": [],
   "source": [
    "#재귀함수 사용 최대공약수\n",
    "def gcd(a,b):\n",
    "    if b==0:\n",
    "        return a\n",
    "    else:\n",
    "        return gcd(b,a%b)\n",
    "    "
   ]
  },
  {
   "cell_type": "code",
   "execution_count": 37,
   "metadata": {},
   "outputs": [
    {
     "name": "stdout",
     "output_type": "stream",
     "text": [
      "3\n",
      "4 10 20 30 40\n",
      "70\n",
      "3 7 5 12\n",
      "3\n",
      "3 125 15 25\n",
      "35\n"
     ]
    }
   ],
   "source": [
    "test = int(input())\n",
    "num = []\n",
    "for i in range(test):\n",
    "    result = 0\n",
    "    num.append(list(map(int, input().split())))\n",
    "    for j in range(1,len(num[i])-1):\n",
    "        for k in range(1,len(num[i])-j):\n",
    "            result+=(gcd(num[i][j], num[i][j+k]))\n",
    "    print(result)\n",
    "    result = 0"
   ]
  },
  {
   "cell_type": "code",
   "execution_count": null,
   "metadata": {},
   "outputs": [],
   "source": []
  }
 ],
 "metadata": {
  "kernelspec": {
   "display_name": "Python 3",
   "language": "python",
   "name": "python3"
  },
  "language_info": {
   "codemirror_mode": {
    "name": "ipython",
    "version": 3
   },
   "file_extension": ".py",
   "mimetype": "text/x-python",
   "name": "python",
   "nbconvert_exporter": "python",
   "pygments_lexer": "ipython3",
   "version": "3.7.4"
  }
 },
 "nbformat": 4,
 "nbformat_minor": 2
}
