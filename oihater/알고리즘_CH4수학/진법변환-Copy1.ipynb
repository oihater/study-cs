{
 "cells": [
  {
   "cell_type": "code",
   "execution_count": 41,
   "metadata": {},
   "outputs": [
    {
     "name": "stdout",
     "output_type": "stream",
     "text": [
      "11001100\n"
     ]
    },
    {
     "data": {
      "text/plain": [
       "314"
      ]
     },
     "execution_count": 41,
     "metadata": {},
     "output_type": "execute_result"
    }
   ],
   "source": [
    "#진법변환 2진법 -> 8진법\n",
    "# 2->10\n",
    "n = int(input())\n",
    "decimal = 0\n",
    "digit = 0\n",
    "while n//10 !=0:\n",
    "    decimal += 2**digit*(n%10)\n",
    "    digit += 1\n",
    "    n = n//10\n",
    "decimal += 2**digit*(n%10)\n",
    "#10 -> 8\n",
    "octa = []\n",
    "while decimal//8 !=0:\n",
    "    octa.append(decimal%8)\n",
    "    decimal = decimal //8\n",
    "octa.append(decimal % 8)\n",
    "octal = 0\n",
    "for i in range(len(octa)):\n",
    "    octal += 10**i*octa[i]\n",
    "octal\n",
    "#시간초과"
   ]
  },
  {
   "cell_type": "code",
   "execution_count": 1,
   "metadata": {},
   "outputs": [
    {
     "name": "stdout",
     "output_type": "stream",
     "text": [
      "11001100\n",
      "314\n"
     ]
    }
   ],
   "source": [
    "print(oct(int(input(), 2))[2:])"
   ]
  },
  {
   "cell_type": "code",
   "execution_count": null,
   "metadata": {},
   "outputs": [],
   "source": []
  }
 ],
 "metadata": {
  "kernelspec": {
   "display_name": "Python 3",
   "language": "python",
   "name": "python3"
  },
  "language_info": {
   "codemirror_mode": {
    "name": "ipython",
    "version": 3
   },
   "file_extension": ".py",
   "mimetype": "text/x-python",
   "name": "python",
   "nbconvert_exporter": "python",
   "pygments_lexer": "ipython3",
   "version": "3.7.4"
  }
 },
 "nbformat": 4,
 "nbformat_minor": 2
}
