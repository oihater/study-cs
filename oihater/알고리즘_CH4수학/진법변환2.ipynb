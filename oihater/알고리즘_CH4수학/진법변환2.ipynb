{
 "cells": [
  {
   "cell_type": "code",
   "execution_count": 34,
   "metadata": {},
   "outputs": [
    {
     "name": "stdout",
     "output_type": "stream",
     "text": [
      "60466175 36\n"
     ]
    },
    {
     "data": {
      "text/plain": [
       "[35, 35, 35, 35, 35]"
      ]
     },
     "execution_count": 34,
     "metadata": {},
     "output_type": "execute_result"
    }
   ],
   "source": [
    "#진법변환\n",
    "n,b = map(int, input().split())\n",
    "result = []\n",
    "while n//b != 0:\n",
    "    result.append(n%b)\n",
    "    n = n//b\n",
    "result.append(n%b)\n",
    "result"
   ]
  },
  {
   "cell_type": "code",
   "execution_count": 35,
   "metadata": {},
   "outputs": [],
   "source": [
    "ptr = \"\"\n",
    "for i in range(len(result)):\n",
    "    if result[i]>9:\n",
    "        result[i] = chr(result[i]+55)\n",
    "        \n",
    "for i in range(len(result)):    \n",
    "    ptr += str(result[len(result)-1-i])"
   ]
  },
  {
   "cell_type": "code",
   "execution_count": 38,
   "metadata": {},
   "outputs": [
    {
     "name": "stdout",
     "output_type": "stream",
     "text": [
      "ZZZZZ\n"
     ]
    }
   ],
   "source": [
    "print(ptr)"
   ]
  },
  {
   "cell_type": "code",
   "execution_count": null,
   "metadata": {},
   "outputs": [],
   "source": []
  }
 ],
 "metadata": {
  "kernelspec": {
   "display_name": "Python 3",
   "language": "python",
   "name": "python3"
  },
  "language_info": {
   "codemirror_mode": {
    "name": "ipython",
    "version": 3
   },
   "file_extension": ".py",
   "mimetype": "text/x-python",
   "name": "python",
   "nbconvert_exporter": "python",
   "pygments_lexer": "ipython3",
   "version": "3.7.4"
  }
 },
 "nbformat": 4,
 "nbformat_minor": 2
}
